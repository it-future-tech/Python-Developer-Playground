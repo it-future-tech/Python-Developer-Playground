{
 "cells": [
  {
   "cell_type": "markdown",
   "id": "69d955cb-5285-474b-b23c-8aafae71fd6c",
   "metadata": {},
   "source": [
    "# Built-in Data Types in Python"
   ]
  },
  {
   "cell_type": "markdown",
   "id": "4876b02f-ab2a-4f89-a641-ebf9d82b90ef",
   "metadata": {},
   "source": [
    "## Numeric Types "
   ]
  },
  {
   "cell_type": "markdown",
   "id": "72f9fde8-db6c-4c5c-a6b4-acd95c7de2d0",
   "metadata": {},
   "source": [
    "int (Integer)"
   ]
  },
  {
   "cell_type": "code",
   "execution_count": 1,
   "id": "8166f8f6-d16d-447b-922b-62ade2c29d1f",
   "metadata": {},
   "outputs": [
    {
     "name": "stdout",
     "output_type": "stream",
     "text": [
      "14 : <class 'int'>\n"
     ]
    }
   ],
   "source": [
    "a =14\n",
    "print(a,':',type(a))"
   ]
  },
  {
   "cell_type": "markdown",
   "id": "bacfff29-5342-4a5e-bfe9-cc3412e3ac97",
   "metadata": {},
   "source": [
    "float (Floating-Point Number)"
   ]
  },
  {
   "cell_type": "code",
   "execution_count": 2,
   "id": "eeb2a900-44b3-422d-9187-cb056cc73114",
   "metadata": {},
   "outputs": [
    {
     "name": "stdout",
     "output_type": "stream",
     "text": [
      "1.23e-05 : <class 'float'>\n"
     ]
    }
   ],
   "source": [
    "scientific_notation = 1.23e-5\n",
    "print(scientific_notation,':',type(scientific_notation))"
   ]
  },
  {
   "cell_type": "markdown",
   "id": "0c433fdc-7740-4983-9995-080a4acb908f",
   "metadata": {},
   "source": [
    "Complex (Complex Number)"
   ]
  },
  {
   "cell_type": "code",
   "execution_count": 3,
   "id": "1b327f91-e884-43d9-a81e-319628045ed2",
   "metadata": {},
   "outputs": [
    {
     "name": "stdout",
     "output_type": "stream",
     "text": [
      "(3+4j) : <class 'complex'>\n"
     ]
    }
   ],
   "source": [
    "z1 = 3 + 4j\n",
    "print(z1,':',type(z1))"
   ]
  },
  {
   "cell_type": "markdown",
   "id": "c862d198-e1b6-46f7-a887-8a67137ecf4c",
   "metadata": {},
   "source": [
    "## Sequence Types "
   ]
  },
  {
   "cell_type": "markdown",
   "id": "49e4bc6a-0e0b-495f-ae84-7204181aabce",
   "metadata": {},
   "source": [
    "str (String) "
   ]
  },
  {
   "cell_type": "code",
   "execution_count": 4,
   "id": "79591656-09f7-41f1-bf9a-fa0d0ca71dfe",
   "metadata": {},
   "outputs": [
    {
     "name": "stdout",
     "output_type": "stream",
     "text": [
      "Hello, IT FUTURE TECH ! : <class 'str'>\n"
     ]
    }
   ],
   "source": [
    "message = 'Hello, IT FUTURE TECH !'\n",
    "print(message,':',type(message))"
   ]
  },
  {
   "cell_type": "markdown",
   "id": "369f6637-8f43-4d26-8c90-db537046fa55",
   "metadata": {},
   "source": [
    "list (List) "
   ]
  },
  {
   "cell_type": "code",
   "execution_count": 5,
   "id": "c1987c1c-300b-41f9-bd65-291a572684de",
   "metadata": {},
   "outputs": [
    {
     "name": "stdout",
     "output_type": "stream",
     "text": [
      "[1, 'IT', 'Future', True] : <class 'list'>\n"
     ]
    }
   ],
   "source": [
    "my_list = [1, \"IT\", \"Future\", True]\n",
    "print(my_list,':',type(my_list))"
   ]
  },
  {
   "cell_type": "markdown",
   "id": "dde2ee3f-4e0c-4a3e-817a-cdfca4b44146",
   "metadata": {},
   "source": [
    "tuple (Tuple) "
   ]
  },
  {
   "cell_type": "code",
   "execution_count": 6,
   "id": "61d0fa68-9047-44c6-928c-722e8a7d27f7",
   "metadata": {},
   "outputs": [
    {
     "name": "stdout",
     "output_type": "stream",
     "text": [
      "('IT', 'Future', 'Tech') : <class 'tuple'>\n"
     ]
    }
   ],
   "source": [
    "my_tuple = (\"IT\", \"Future\", \"Tech\")\n",
    "print(my_tuple,':',type(my_tuple))"
   ]
  },
  {
   "cell_type": "markdown",
   "id": "3fea0f85-37ae-4e15-ba0b-c330ca4556a2",
   "metadata": {},
   "source": [
    "range (Range) "
   ]
  },
  {
   "cell_type": "code",
   "execution_count": 7,
   "id": "0892b1cc-3440-49dc-b472-333a364e1125",
   "metadata": {},
   "outputs": [
    {
     "name": "stdout",
     "output_type": "stream",
     "text": [
      "0 1 2 3 4 \n",
      " <class 'range'>\n"
     ]
    }
   ],
   "source": [
    "numbers = range(5)\n",
    "for i in numbers:\n",
    "    print(i, end=\" \")\n",
    "print(\"\\n\",type(numbers))"
   ]
  },
  {
   "cell_type": "markdown",
   "id": "280a39fe-f386-4012-aff0-7606f3b2c293",
   "metadata": {},
   "source": [
    "## Mapping Type "
   ]
  },
  {
   "cell_type": "markdown",
   "id": "528fa262-7303-4694-b3a5-5fb48ac34fd5",
   "metadata": {},
   "source": [
    "dict (Dictionary) "
   ]
  },
  {
   "cell_type": "code",
   "execution_count": 8,
   "id": "f7b27d52-d3da-4f1d-820a-277d6360d28e",
   "metadata": {},
   "outputs": [
    {
     "name": "stdout",
     "output_type": "stream",
     "text": [
      "ABC\n",
      "<class 'dict'>\n",
      "{'name': 'ABC', 'age': 26, 'city': 'Mumbai', 'email': 'ABC@itfuturetech.com'}\n"
     ]
    }
   ],
   "source": [
    "person = {\"name\": \"ABC\", \"age\": 27, \"city\": \"Mumbai\"}\n",
    "print(person[\"name\"])\n",
    "person[\"age\"] = 26\n",
    "person[\"email\"] = \"ABC@itfuturetech.com\"\n",
    "print(type(person)) \n",
    "print(person)"
   ]
  },
  {
   "cell_type": "markdown",
   "id": "66c08f9a-c4ce-4ec7-a6f9-09e9f9f7bb91",
   "metadata": {},
   "source": [
    "## Set Types "
   ]
  },
  {
   "cell_type": "markdown",
   "id": "928f9fba-a67a-426c-8aba-e5bd427d409d",
   "metadata": {},
   "source": [
    "set (Set)"
   ]
  },
  {
   "cell_type": "code",
   "execution_count": 9,
   "id": "901acb0a-9b8d-48bf-911d-339e258cad3e",
   "metadata": {},
   "outputs": [
    {
     "name": "stdout",
     "output_type": "stream",
     "text": [
      "{1, 2, 3, 4}\n"
     ]
    }
   ],
   "source": [
    "my_set = {1, 2, 3, 2, 4} # Duplicates are automatically removed\n",
    "print(my_set) "
   ]
  },
  {
   "cell_type": "markdown",
   "id": "abcd3be9-2b8b-4725-bc96-dddd98b635bc",
   "metadata": {},
   "source": [
    "frozenset (Frozen Set"
   ]
  },
  {
   "cell_type": "code",
   "execution_count": 10,
   "id": "f77746e4-6410-439c-9ab7-5ca31544ac8e",
   "metadata": {},
   "outputs": [
    {
     "name": "stdout",
     "output_type": "stream",
     "text": [
      "frozenset({1, 2, 3})\n"
     ]
    }
   ],
   "source": [
    "my_frozenset = frozenset([1, 2, 3, 2])\n",
    "print(my_frozenset) "
   ]
  },
  {
   "cell_type": "markdown",
   "id": "fc709326-e21d-44c6-a81c-65b82432dd06",
   "metadata": {},
   "source": [
    "## Boolean Type "
   ]
  },
  {
   "cell_type": "markdown",
   "id": "96aafd45-7a7e-4dd8-ba56-13fcad19dea1",
   "metadata": {},
   "source": [
    "bool (Boolean) "
   ]
  },
  {
   "cell_type": "code",
   "execution_count": 11,
   "id": "c6aaca1f-17a7-4fc6-bf5c-eb3faf32a933",
   "metadata": {},
   "outputs": [
    {
     "name": "stdout",
     "output_type": "stream",
     "text": [
      "<class 'bool'>\n"
     ]
    }
   ],
   "source": [
    "is_active = True\n",
    "print(type(is_active))"
   ]
  },
  {
   "cell_type": "markdown",
   "id": "50224f02-86b5-4b11-91c7-c32e12acaa78",
   "metadata": {},
   "source": [
    "## None Type "
   ]
  },
  {
   "cell_type": "markdown",
   "id": "d2496dd1-d4d2-4ecf-bbb1-05a71a9461d3",
   "metadata": {},
   "source": [
    "NoneType (None) "
   ]
  },
  {
   "cell_type": "code",
   "execution_count": 12,
   "id": "1c288dda-a769-40eb-92f8-688bf510783b",
   "metadata": {},
   "outputs": [
    {
     "name": "stdout",
     "output_type": "stream",
     "text": [
      "<class 'NoneType'>\n"
     ]
    }
   ],
   "source": [
    "result = None\n",
    "print(type(result))"
   ]
  },
  {
   "cell_type": "code",
   "execution_count": null,
   "id": "57a5bcc3-966a-4b8a-9046-c6901c1783eb",
   "metadata": {},
   "outputs": [],
   "source": []
  }
 ],
 "metadata": {
  "kernelspec": {
   "display_name": "Python 3 (ipykernel)",
   "language": "python",
   "name": "python3"
  },
  "language_info": {
   "codemirror_mode": {
    "name": "ipython",
    "version": 3
   },
   "file_extension": ".py",
   "mimetype": "text/x-python",
   "name": "python",
   "nbconvert_exporter": "python",
   "pygments_lexer": "ipython3",
   "version": "3.12.7"
  }
 },
 "nbformat": 4,
 "nbformat_minor": 5
}
